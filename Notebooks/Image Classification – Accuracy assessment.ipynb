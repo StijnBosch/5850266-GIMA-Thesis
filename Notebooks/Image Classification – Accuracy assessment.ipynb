{
 "cells": [
  {
   "cell_type": "code",
   "execution_count": null,
   "id": "b11ee7b2",
   "metadata": {},
   "outputs": [],
   "source": [
    "#import necessary modules\n",
    "import numpy as np\n",
    "import rasterio as rs\n",
    "import matplotlib.pyplot as plt\n",
    "import earthpy.spatial as es\n",
    "import earthpy.plot as ep\n",
    "from numpy import loadtxt\n",
    "from osgeo import gdal, gdalconst\n",
    "from sklearn.preprocessing import StandardScaler\n",
    "from sklearn import decomposition\n",
    "from sklearn.ensemble import IsolationForest\n",
    "from sklearn import svm\n",
    "from sklearn.metrics import confusion_matrix, ConfusionMatrixDisplay\n",
    "from sklearn.metrics import roc_curve\n",
    "from sklearn.metrics import roc_auc_score"
   ]
  },
  {
   "cell_type": "code",
   "execution_count": null,
   "id": "d1a2af8a",
   "metadata": {},
   "outputs": [],
   "source": [
    "#Set imagery as variables\n",
    "asi = #'Path_to_SingleDateImage_Amsterdam.tif'\n",
    "ami = #'Path_to_MedianImage_Amsterdam.tif'\n",
    "msi = #'Path_to_SingleDateImage_Milano.tif'\n",
    "mmi = #'Path_to_MedianImage_Milano.tif'\n",
    "bsi = #'Path_to_SingleDateImage_Budapest.tif'\n",
    "bmi = #'Path_to_MedianImage_Budapest.tif'\n",
    "filist = [asi, ami, msi, mmi, bsi, bmi]"
   ]
  },
  {
   "cell_type": "code",
   "execution_count": null,
   "id": "b562e2ed",
   "metadata": {},
   "outputs": [],
   "source": [
    "#import Twitter Raster, Validation datasets & Anomaly score maps\n",
    "Twit = rs.open(#'Path_to_TwitterRaster.tif','r').read()\n",
    "Twit = np.transpose(Twit, [1, 2, 0])\n",
    "Twit = Twit[:,:,0]\n",
    "Val = rs.open(#'Path_to_30Mvalidationdataset.tif','r').read()\n",
    "Val = np.transpose(Vala, [1, 2, 0])\n",
    "Val30m = Val[:,:,0]\n",
    "Val30m = np.where(Val30m==2, 1, 0)\n",
    "Val30m = Val30m.flatten()\n",
    "Val2 = rs.open(#'Path_to_GAIAvalidationdataset.tif','r').read()\n",
    "Val2 = np.transpose(Val2, [1, 2, 0])\n",
    "Val2GAIA = Val2[:,:,0]\n",
    "Val2GAIA = np.where(Val2GAIA>0, 1, 0)\n",
    "Val2GAIA = Val2GAIA.flatten()\n",
    "Val3 = rs.open(#'Path_to_GHSvalidationdataset.tif','r').read()\n",
    "Val3 = np.transpose(Val3, [1, 2, 0])\n",
    "Val3GHS = Val3[:,:,0]\n",
    "Val3GHS50 = np.where(Val3GHS>50, 1, 0)\n",
    "Val3GHS50 = Val3GHS50.flatten()\n",
    "\n",
    "AnomalyScore = np.loadtxt(#'Path_to_IsolationForest_img.csv', class_map1, delimiter=',')"
   ]
  },
  {
   "cell_type": "code",
   "execution_count": null,
   "id": "db856851",
   "metadata": {},
   "outputs": [],
   "source": [
    "class_map = AnomalyScore\n",
    "class_map = np.where(class_map>0.5, 1, 0) #first float is the Binary threshold\n",
    "class_map = class_map.flatten()\n",
    "pred = class_map\n",
    "true1 = Val30m\n",
    "true2 = Val2GAIA\n",
    "true3 = Val3GHS50\n",
    "\n",
    "cfm1 = confusion_matrix(true1, pred)\n",
    "TN1,FP1,FN1,TP1= cfm1.ravel()\n",
    "cfm2 = confusion_matrix(true2, pred)\n",
    "TN2,FP2,FN2,TP2= cfm2.ravel()\n",
    "cfm3 = confusion_matrix(true3, pred)\n",
    "TN3,FP3,FN3,TP3= cfm3.ravel()\n",
    "\n",
    "AO = (((TP1+TN1)/(TP1+TN1+FP1+FN1))+\n",
    "      ((TP2+TN2)/(TP2+TN2+FP2+FN2))+\n",
    "      ((TP3+TN3)/(TP3+TN3+FP3+FN3)))/3\n",
    "\n",
    "P = ((TP1/(TP1+FP1))+\n",
    "     (TP2/(TP2+FP2))+\n",
    "     (TP3/(TP3+FP3)))/3\n",
    "\n",
    "R = ((TP1/(TP1+FN1))+\n",
    "     (TP2/(TP2+FN2))+\n",
    "     (TP3/(TP3+FN3)))/3\n",
    "\n",
    "F = (((2*TP1)/(2*TP1+FP1+FN1))+\n",
    "     ((2*TP2)/(2*TP2+FP2+FN2))+\n",
    "     ((2*TP3)/(2*TP3+FP3+FN3)))/3\n",
    "\n",
    "auc1 = roc_auc_score(true1,pred)\n",
    "auc2 = roc_auc_score(true2,pred)\n",
    "auc3 = roc_auc_score(true3,pred)\n",
    "score = ((auc1+auc2+auc3)/3)\n",
    "\n",
    "print('AUC score = ' + str(score))\n",
    "print('Overall Accuracy = ' + str(AO))\n",
    "print('Precision = ' + str(P))\n",
    "print('Recall = ' + str(R))\n",
    "print('F_score = ' + str(F))"
   ]
  },
  {
   "cell_type": "code",
   "execution_count": null,
   "id": "b014c37f",
   "metadata": {},
   "outputs": [],
   "source": [
    "class_map = AnomalyScore\n",
    "class_map = np.where(class_map>0.5, 1, 0)\n",
    "fig, ax = plt.subplots(figsize=(12, 12))\n",
    "im = ax.imshow(class_map, cmap=\"gray\")"
   ]
  }
 ],
 "metadata": {
  "kernelspec": {
   "display_name": "Python 3 (ipykernel)",
   "language": "python",
   "name": "python3"
  },
  "language_info": {
   "codemirror_mode": {
    "name": "ipython",
    "version": 3
   },
   "file_extension": ".py",
   "mimetype": "text/x-python",
   "name": "python",
   "nbconvert_exporter": "python",
   "pygments_lexer": "ipython3",
   "version": "3.7.12"
  }
 },
 "nbformat": 4,
 "nbformat_minor": 5
}
