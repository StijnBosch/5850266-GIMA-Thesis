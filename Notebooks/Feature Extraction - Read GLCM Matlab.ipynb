{
 "cells": [
  {
   "cell_type": "code",
   "execution_count": null,
   "id": "b9d82d01",
   "metadata": {},
   "outputs": [],
   "source": [
    "#import necessary modules\n",
    "import scipy.io as sp\n",
    "import matplotlib.pyplot as plt\n",
    "import numpy as np\n",
    "from numpy import savetxt\n",
    "from numpy import loadtxt\n",
    "from osgeo import gdal, gdalconst"
   ]
  },
  {
   "cell_type": "code",
   "execution_count": null,
   "id": "3874f95b",
   "metadata": {},
   "outputs": [],
   "source": [
    "def read_data(inras):\n",
    "    # Read data\n",
    "    img = gdal.Open(inras, gdal.GA_ReadOnly) \n",
    "    bands = [img.GetRasterBand(i).ReadAsArray() for i in range(1, img.RasterCount + 1)]\n",
    "    img = np.array(bands)\n",
    "    img = img[0:12,:,:]\n",
    "    img = np.transpose(img, [1, 2, 0])\n",
    "    img_rgbnir = img[:,:,[3,2,1,7]]\n",
    "    return img_rgbnir"
   ]
  },
  {
   "cell_type": "code",
   "execution_count": null,
   "id": "9ac6ac67",
   "metadata": {},
   "outputs": [],
   "source": [
    "#read Matlab files and store as numpy array\n",
    "i_avg = sp.loadmat('i_avg.mat')\n",
    "average = i_avg['I_avg']\n",
    "average = np.ascontiguousarray(average)\n",
    "\n",
    "i_ent = sp.loadmat('i_ent.mat')\n",
    "entropy = i_ent['I_ent']\n",
    "entropy = np.ascontiguousarray(entropy)\n",
    "\n",
    "i_glcm_con = sp.loadmat('i_glcm_con.mat')\n",
    "contrast = i_glcm_con['I_glcm_con']\n",
    "contrast = np.ascontiguousarray(contrast)\n",
    "\n",
    "i_glcm_cor = sp.loadmat('i_glcm_cor.mat')\n",
    "correlation = i_glcm_cor['I_glcm_cor']\n",
    "correlation = np.ascontiguousarray(correlation)\n",
    "\n",
    "i_glcm_ene = sp.loadmat('i_glcm_ene.mat')\n",
    "energy = i_glcm_ene['I_glcm_ene']\n",
    "energy = np.ascontiguousarray(energy)\n",
    "\n",
    "i_glcm_hom = sp.loadmat('i_glcm_hom.mat')\n",
    "homogeneity = i_glcm_hom['I_glcm_hom']\n",
    "homogeneity = np.ascontiguousarray(homogeneity)\n",
    "\n",
    "i_ran = sp.loadmat('i_ran.mat')\n",
    "irange = i_ran['I_ran']\n",
    "irange = np.ascontiguousarray(irange)\n",
    "\n",
    "i_std = sp.loadmat('i_std.mat')\n",
    "std = i_std['I_std']\n",
    "std = np.ascontiguousarray(std)\n",
    "\n",
    "stack = np.concatenate((average, entropy, contrast, correlation, energy, homogeneity, irange, std), axis=2)\n",
    "stack = stack.flatten()\n",
    "GLCM_ASI = np.savetxt(#'Path_To_GLCMoutput.csv', stack, delimiter=',')"
   ]
  },
  {
   "cell_type": "code",
   "execution_count": null,
   "id": "25131f41",
   "metadata": {},
   "outputs": [],
   "source": [
    "#read data example\n",
    "\n",
    "#Set imagery as variables\n",
    "asi = #'Path_to_SingleDateImage_Amsterdam.tif'\n",
    "ami = #'Path_to_MedianImage_Amsterdam.tif'\n",
    "msi = #'Path_to_SingleDateImage_Milano.tif'\n",
    "mmi = #'Path_to_MedianImage_Milano.tif'\n",
    "bsi = #'Path_to_SingleDateImage_Budapest.tif'\n",
    "bmi = #'Path_to_MedianImage_Budapest.tif'\n",
    "filist = [asi, ami, msi, mmi, bsi, bmi]\n",
    "\n",
    "GLCM_load = loadtxt(#'Path_To_GLCMoutput.csv', delimiter=',')\n",
    "img = read_data(asi)\n",
    "nr, nc, nb = img.shape\n",
    "nf = 16 #number of extracted features per image\n",
    "GLCM = GLCM_load.reshape(nr,nc,nf)"
   ]
  }
 ],
 "metadata": {
  "kernelspec": {
   "display_name": "Python 3 (ipykernel)",
   "language": "python",
   "name": "python3"
  },
  "language_info": {
   "codemirror_mode": {
    "name": "ipython",
    "version": 3
   },
   "file_extension": ".py",
   "mimetype": "text/x-python",
   "name": "python",
   "nbconvert_exporter": "python",
   "pygments_lexer": "ipython3",
   "version": "3.7.12"
  }
 },
 "nbformat": 4,
 "nbformat_minor": 5
}
