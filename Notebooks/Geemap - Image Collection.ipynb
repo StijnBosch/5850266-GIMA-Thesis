{
 "cells": [
  {
   "cell_type": "code",
   "execution_count": 1,
   "id": "a6edb460",
   "metadata": {},
   "outputs": [],
   "source": [
    "#import essential packages\n",
    "import ee\n",
    "import geemap\n",
    "import os\n",
    "import numpy"
   ]
  },
  {
   "cell_type": "code",
   "execution_count": 3,
   "id": "51c835bc",
   "metadata": {
    "scrolled": false
   },
   "outputs": [],
   "source": [
    "#Create interactive map in geemap environment\n",
    "Map = geemap.Map()\n",
    "\n",
    "vis_params = {\"min\": 0, \n",
    "              \"max\": 4000, \n",
    "              \"bands\": [\"B4\", \"B3\", \"B2\"]\n",
    "} "
   ]
  },
  {
   "cell_type": "code",
   "execution_count": 10,
   "id": "22aa86c6",
   "metadata": {},
   "outputs": [],
   "source": [
    "#Gather images of Amsterdam  \n",
    "CollectionA = ee.ImageCollection('COPERNICUS/S2_SR') \\\n",
    "    .filterBounds(ee.Geometry.Point([4.82, 52.40])) \\\n",
    "    .filterDate('2020-03-01', '2020-05-31') \\\n",
    "    .filterMetadata('CLOUDY_PIXEL_PERCENTAGE', 'less_than', 10) \\\n",
    "    .sort('CLOUDY_PIXEL_PERCENTAGE', False)"
   ]
  },
  {
   "cell_type": "code",
   "execution_count": 11,
   "id": "f88d6270",
   "metadata": {},
   "outputs": [
    {
     "name": "stdout",
     "output_type": "stream",
     "text": [
      "['20200530T105031_20200530T105134_T31UFU', '20200415T104619_20200415T104645_T31UFU', '20200331T105021_20200331T105124_T31UFU', '20200326T104639_20200326T105300_T31UFU', '20200420T105031_20200420T105028_T31UFU', '20200405T104619_20200405T105015_T31UFU']\n"
     ]
    }
   ],
   "source": [
    "#Get GEE ID collection\n",
    "print(CollectionA.aggregate_array('system:index').getInfo()) "
   ]
  },
  {
   "cell_type": "code",
   "execution_count": 14,
   "id": "0427bd79",
   "metadata": {},
   "outputs": [],
   "source": [
    "#Gather images of Milano \n",
    "CollectionM = ee.ImageCollection('COPERNICUS/S2_SR') \\\n",
    "    .filterBounds(ee.Geometry.Point([9.18, 45.46])) \\\n",
    "    .filterDate('2020-03-01', '2020-05-31') \\\n",
    "    .filterMetadata('CLOUDY_PIXEL_PERCENTAGE', 'less_than', 10) \\\n",
    "    .sort('CLOUDY_PIXEL_PERCENTAGE', False)"
   ]
  },
  {
   "cell_type": "code",
   "execution_count": 15,
   "id": "120d3b39",
   "metadata": {},
   "outputs": [
    {
     "name": "stdout",
     "output_type": "stream",
     "text": [
      "['20200521T102031_20200521T102644_T32TNR', '20200307T101759_20200307T101755_T32TNR', '20200406T101559_20200406T102723_T32TNR', '20200411T102021_20200411T102438_T32TNR']\n"
     ]
    }
   ],
   "source": [
    "#Get GEE ID collection\n",
    "print(CollectionM.aggregate_array('system:index').getInfo()) "
   ]
  },
  {
   "cell_type": "code",
   "execution_count": 12,
   "id": "9fe67a8d",
   "metadata": {},
   "outputs": [],
   "source": [
    "#Gather images of Budapest \n",
    "CollectionB = ee.ImageCollection('COPERNICUS/S2_SR') \\\n",
    "    .filterBounds(ee.Geometry.Point([19.06, 47.49])) \\\n",
    "    .filterDate('2020-03-01', '2020-05-31') \\\n",
    "    .filterMetadata('CLOUDY_PIXEL_PERCENTAGE', 'less_than', 10) \\\n",
    "    .sort('CLOUDY_PIXEL_PERCENTAGE', False)"
   ]
  },
  {
   "cell_type": "code",
   "execution_count": 13,
   "id": "fda1d075",
   "metadata": {},
   "outputs": [
    {
     "name": "stdout",
     "output_type": "stream",
     "text": [
      "['20200422T095031_20200422T095031_T34TCT', '20200424T094029_20200424T094123_T34TCT', '20200412T095031_20200412T095028_T34TCT', '20200310T094031_20200310T094338_T33TYN', '20200407T095029_20200407T095026_T33TYN', '20200318T095029_20200318T095338_T33TYN', '20200318T095029_20200318T095338_T34TCT', '20200424T094029_20200424T094123_T33TYN', '20200412T095031_20200412T095028_T33TYN', '20200320T094031_20200320T094248_T33TYN', '20200320T094031_20200320T094248_T34TCT', '20200404T094029_20200404T094524_T33TYN', '20200404T094029_20200404T094524_T34TCT', '20200407T095029_20200407T095026_T34TCT', '20200305T094029_20200305T094629_T33TYN', '20200522T095041_20200522T095455_T33TYN', '20200305T094029_20200305T094629_T34TCT', '20200422T095031_20200422T095031_T33TYN', '20200409T094031_20200409T094554_T34TCT', '20200310T094031_20200310T094338_T34TCT', '20200409T094031_20200409T094554_T33TYN', '20200402T095031_20200402T095025_T34TCT', '20200402T095031_20200402T095025_T33TYN', '20200522T095041_20200522T095455_T34TCT']\n"
     ]
    }
   ],
   "source": [
    "#Get GEE ID collection\n",
    "print(CollectionB.aggregate_array('system:index').getInfo()) "
   ]
  },
  {
   "cell_type": "code",
   "execution_count": 12,
   "id": "46608b10",
   "metadata": {},
   "outputs": [],
   "source": [
    "#Median operator on GEE Image collection\n",
    "medianA = CollectionA.median()\n",
    "medianM = CollectionM.median()\n",
    "medianB = CollectionB.median()\n",
    "\n",
    "Map.addLayer(medianM, vis_params, \"Sentinel-2 Milano\", False)\n",
    "Map.addLayer(medianB, vis_params, \"Sentinel-2 Budapest\", False)\n",
    "Map.addLayer(medianA, vis_params, \"Sentinel-2 Amsterdam\", False)"
   ]
  },
  {
   "cell_type": "code",
   "execution_count": 14,
   "id": "66cba8d7",
   "metadata": {},
   "outputs": [],
   "source": [
    "#Add BoundingBox shapefiles to interactive map for ROI\n",
    "Amsterdam_shp = 'F:/_UNIVERSITEIT/_UNIVERSITEIT_UTRECHT_Master/(GEO4-GIMA7)_Master_Thesis/GIS/Data/Analysis/Shapes/BoundingBoxAmsterdam2.shp' \n",
    "Amsterdam = geemap.shp_to_ee(Amsterdam_shp) \n",
    "Map.addLayer(Amsterdam, {}, 'AmsterdamBB') \n",
    "roiA = Amsterdam.geometry()\n",
    "\n",
    "Milano_shp = 'F:/_UNIVERSITEIT/_UNIVERSITEIT_UTRECHT_Master/(GEO4-GIMA7)_Master_Thesis/GIS/Data/Analysis/Shapes/BoundingBoxMilano2.shp' \n",
    "Milano = geemap.shp_to_ee(Milano_shp) \n",
    "Map.addLayer(Milano, {}, 'MilanoBB') \n",
    "roiM = Milano.geometry()\n",
    "\n",
    "Budapest_shp = 'F:/_UNIVERSITEIT/_UNIVERSITEIT_UTRECHT_Master/(GEO4-GIMA7)_Master_Thesis/GIS/Data/Analysis/Shapes/BoundingBoxBudapest2.shp' \n",
    "Budapest = geemap.shp_to_ee(Budapest_shp) \n",
    "Map.addLayer(Budapest, {}, 'BudapestBB') \n",
    "roiB = Budapest.geometry()"
   ]
  },
  {
   "cell_type": "code",
   "execution_count": 20,
   "id": "10c575d3",
   "metadata": {},
   "outputs": [],
   "source": [
    "#Display single images for visual inspection\n",
    "imageAS = ee.Image('COPERNICUS/S2_SR/20200405T104619_20200405T105015_T31UFU')\n",
    "imageASC = imageAS.clip(roiA).unmask() \n",
    "imageASC = imageASC.toUint16()\n",
    "Map.addLayer(imageASC, vis_params, 'AmsterdamSingleImage')\n",
    "\n",
    "imageMS = ee.Image('COPERNICUS/S2_SR/20200411T102021_20200411T102438_T32TNR')\n",
    "imageMSC = imageMS.clip(roiM).unmask()\n",
    "imageMSC = imageMSC.toUint16()\n",
    "Map.addLayer(imageMSC, vis_params, 'MilanoSingleImage')\n",
    "\n",
    "imageBS = ee.Image('COPERNICUS/S2_SR/20200422T095031_20200422T095031_T33TYN')\n",
    "imageBSC = imageBS.clip(roiB).unmask()\n",
    "imageBSC = imageBSC.toUint16()\n",
    "Map.addLayer(imageBSC, vis_params, 'BudapestSingleImage')"
   ]
  },
  {
   "cell_type": "code",
   "execution_count": 22,
   "id": "2c99e670",
   "metadata": {
    "scrolled": true
   },
   "outputs": [],
   "source": [
    "#Composite image collection using median function\n",
    "imageAM = ee.Image(medianA) \n",
    "imageAMC = imageAM.clip(roiA).unmask()\n",
    "imageAMC = imageAMC.toUint16()\n",
    "Map.addLayer(imageAMC, vis_params, 'Amsterdamclip') \n",
    "\n",
    "imageMM = ee.Image(medianM) \n",
    "imageMMC = imageMM.clip(roiM).unmask()\n",
    "imageMMC = imageMMC.toUint16()\n",
    "Map.addLayer(imageMMC, vis_params, 'Milanoclip') \n",
    "\n",
    "imageBM = ee.Image(medianB) \n",
    "imageBMC = imageBM.clip(roiB).unmask() \n",
    "imageBMC = imageBMC.toUint16()\n",
    "Map.addLayer(imageBMC, vis_params, 'Budapestclip') "
   ]
  },
  {
   "cell_type": "code",
   "execution_count": 23,
   "id": "f60413f9",
   "metadata": {},
   "outputs": [
    {
     "data": {
      "application/vnd.jupyter.widget-view+json": {
       "model_id": "3d2c65d159c14a78af822713986c87e8",
       "version_major": 2,
       "version_minor": 0
      },
      "text/plain": [
       "Map(bottom=2756926.0, center=[52.37512759092267, 4.90998803542758], controls=(WidgetControl(options=['position…"
      ]
     },
     "metadata": {},
     "output_type": "display_data"
    }
   ],
   "source": [
    "#Display\n",
    "Map "
   ]
  },
  {
   "cell_type": "code",
   "execution_count": null,
   "id": "8ef31314",
   "metadata": {},
   "outputs": [],
   "source": [
    "#Export Single Image Amsterdam to drive\n",
    "geemap.ee_export_image_to_drive(imageASC, description='AmsterdamSI', folder='Amsterdam', region=roiA, scale=10)\n",
    "\n",
    "#Export Single Image Milano to drive\n",
    "geemap.ee_export_image_to_drive(imageMSC, description='MilanoSI', folder='Milano', region=roiM, scale=10)\n",
    "\n",
    "#Export Single Image Budapest to drive\n",
    "geemap.ee_export_image_to_drive(imageBSC, description='BudapestSI', folder='Budapest', region=roiB, scale=10)\n",
    "\n",
    "#Export Multi Image Amsterdam to drive\n",
    "geemap.ee_export_image_to_drive(imageAMC, description='Amsterdam', folder='Amsterdam', region=roiA, scale=10)\n",
    "\n",
    "#Export Multi Image Milano to drive\n",
    "geemap.ee_export_image_to_drive(imageMMC, description='Milano', folder='Milano', region=roiM, scale=10)\n",
    "\n",
    "#Export Multi Image Budapest to drive\n",
    "geemap.ee_export_image_to_drive(imageBMC, description='Budapest', folder='Budapest', region=roiB, scale=10)"
   ]
  }
 ],
 "metadata": {
  "kernelspec": {
   "display_name": "Python 3 (ipykernel)",
   "language": "python",
   "name": "python3"
  },
  "language_info": {
   "codemirror_mode": {
    "name": "ipython",
    "version": 3
   },
   "file_extension": ".py",
   "mimetype": "text/x-python",
   "name": "python",
   "nbconvert_exporter": "python",
   "pygments_lexer": "ipython3",
   "version": "3.8.12"
  }
 },
 "nbformat": 4,
 "nbformat_minor": 5
}
