{
 "cells": [
  {
   "cell_type": "code",
   "execution_count": null,
   "id": "6e2f3f95",
   "metadata": {},
   "outputs": [],
   "source": [
    "#import essential packages\n",
    "import ee\n",
    "import geemap\n",
    "import os\n",
    "import numpy"
   ]
  },
  {
   "cell_type": "code",
   "execution_count": null,
   "id": "2d6c5093",
   "metadata": {},
   "outputs": [],
   "source": [
    "#Create interactive map in geemap environment for visualization purposes\n",
    "Map = geemap.Map()\n",
    "\n",
    "vis_params = {\"min\": 0, \n",
    "              \"max\": 4000, \n",
    "              \"bands\": [\"B4\", \"B3\", \"B2\"]\n",
    "} "
   ]
  },
  {
   "cell_type": "code",
   "execution_count": null,
   "id": "2848d37a",
   "metadata": {},
   "outputs": [],
   "source": [
    "#Gather images of Amsterdam  \n",
    "CollectionA = ee.ImageCollection('COPERNICUS/S2_SR') \\\n",
    "    .filterBounds(ee.Geometry.Point([4.82, 52.40])) \\\n",
    "    .filterDate('2020-03-01', '2020-05-31') \\\n",
    "    .filterMetadata('CLOUDY_PIXEL_PERCENTAGE', 'less_than', 10) \\\n",
    "    .sort('CLOUDY_PIXEL_PERCENTAGE', False)\n",
    "#Get GEE ID collection\n",
    "print(CollectionA.aggregate_array('system:index').getInfo()) "
   ]
  },
  {
   "cell_type": "code",
   "execution_count": null,
   "id": "96de2013",
   "metadata": {},
   "outputs": [],
   "source": [
    "#Gather images of Milano \n",
    "CollectionM = ee.ImageCollection('COPERNICUS/S2_SR') \\\n",
    "    .filterBounds(ee.Geometry.Point([9.18, 45.46])) \\\n",
    "    .filterDate('2020-03-01', '2020-05-31') \\\n",
    "    .filterMetadata('CLOUDY_PIXEL_PERCENTAGE', 'less_than', 10) \\\n",
    "    .sort('CLOUDY_PIXEL_PERCENTAGE', False)\n",
    "#Get GEE ID collection\n",
    "print(CollectionM.aggregate_array('system:index').getInfo()) "
   ]
  },
  {
   "cell_type": "code",
   "execution_count": null,
   "id": "43cff1bf",
   "metadata": {},
   "outputs": [],
   "source": [
    "#Gather images of Budapest \n",
    "CollectionB = ee.ImageCollection('COPERNICUS/S2_SR') \\\n",
    "    .filterBounds(ee.Geometry.Point([19.06, 47.49])) \\\n",
    "    .filterDate('2020-03-01', '2020-05-31') \\\n",
    "    .filterMetadata('CLOUDY_PIXEL_PERCENTAGE', 'less_than', 10) \\\n",
    "    .sort('CLOUDY_PIXEL_PERCENTAGE', False)\n",
    "#Get GEE ID collection\n",
    "print(CollectionB.aggregate_array('system:index').getInfo()) "
   ]
  },
  {
   "cell_type": "code",
   "execution_count": null,
   "id": "9b1c54bf",
   "metadata": {},
   "outputs": [],
   "source": [
    "#Median operator on GEE Image collection\n",
    "medianA = CollectionA.median()\n",
    "medianM = CollectionM.median()\n",
    "medianB = CollectionB.median()\n",
    "\n",
    "Map.addLayer(medianM, vis_params, \"Sentinel-2 Milano\", False)\n",
    "Map.addLayer(medianB, vis_params, \"Sentinel-2 Budapest\", False)\n",
    "Map.addLayer(medianA, vis_params, \"Sentinel-2 Amsterdam\", False)"
   ]
  },
  {
   "cell_type": "code",
   "execution_count": null,
   "id": "2f08ff16",
   "metadata": {},
   "outputs": [],
   "source": [
    "#Add BoundingBox shapefiles to interactive map for ROI\n",
    "Amsterdam_shp = #'path_to_BoundingBox.shp' \n",
    "Amsterdam = geemap.shp_to_ee(Amsterdam_shp) \n",
    "Map.addLayer(Amsterdam, {}, 'AmsterdamBB') \n",
    "roiA = Amsterdam.geometry()\n",
    "\n",
    "Milano_shp = #'path_to_BoundingBox.shp' \n",
    "Milano = geemap.shp_to_ee(Milano_shp) \n",
    "Map.addLayer(Milano, {}, 'MilanoBB') \n",
    "roiM = Milano.geometry()\n",
    "\n",
    "Budapest_shp = #'path_to_BoundingBox.shp' \n",
    "Map.addLayer(Budapest, {}, 'BudapestBB') \n",
    "roiB = Budapest.geometry()"
   ]
  },
  {
   "cell_type": "code",
   "execution_count": null,
   "id": "61b0ac04",
   "metadata": {},
   "outputs": [],
   "source": [
    "#Display single images for visual inspection\n",
    "imageAS = ee.Image(#'image ID')\n",
    "imageASC = imageAS.clip(roiA).unmask() \n",
    "imageASC = imageASC.toUint16()\n",
    "Map.addLayer(imageASC, vis_params, 'AmsterdamSingleImage')\n",
    "\n",
    "imageMS = ee.Image(#'image ID')\n",
    "imageMSC = imageMS.clip(roiM).unmask()\n",
    "imageMSC = imageMSC.toUint16()\n",
    "Map.addLayer(imageMSC, vis_params, 'MilanoSingleImage')\n",
    "\n",
    "imageBS = ee.Image(#'image ID')\n",
    "imageBSC = imageBS.clip(roiB).unmask()\n",
    "imageBSC = imageBSC.toUint16()\n",
    "Map.addLayer(imageBSC, vis_params, 'BudapestSingleImage')"
   ]
  },
  {
   "cell_type": "code",
   "execution_count": null,
   "id": "9cdd0e8a",
   "metadata": {},
   "outputs": [],
   "source": [
    "#Composite image collection using median function\n",
    "imageAM = ee.Image(medianA) \n",
    "imageAMC = imageAM.clip(roiA).unmask()\n",
    "imageAMC = imageAMC.toUint16()\n",
    "Map.addLayer(imageAMC, vis_params, 'Amsterdamclip') \n",
    "\n",
    "imageMM = ee.Image(medianM) \n",
    "imageMMC = imageMM.clip(roiM).unmask()\n",
    "imageMMC = imageMMC.toUint16()\n",
    "Map.addLayer(imageMMC, vis_params, 'Milanoclip') \n",
    "\n",
    "imageBM = ee.Image(medianB) \n",
    "imageBMC = imageBM.clip(roiB).unmask() \n",
    "imageBMC = imageBMC.toUint16()\n",
    "Map.addLayer(imageBMC, vis_params, 'Budapestclip') "
   ]
  },
  {
   "cell_type": "code",
   "execution_count": null,
   "id": "701c78eb",
   "metadata": {},
   "outputs": [],
   "source": [
    "#Display map\n",
    "Map "
   ]
  },
  {
   "cell_type": "code",
   "execution_count": null,
   "id": "6e7ae588",
   "metadata": {},
   "outputs": [],
   "source": [
    "#Export Single Image Amsterdam to drive\n",
    "geemap.ee_export_image_to_drive(imageASC, description='AmsterdamSI', folder='Amsterdam', region=roiA, scale=10)\n",
    "#Export Single Image Milano to drive\n",
    "geemap.ee_export_image_to_drive(imageMSC, description='MilanoSI', folder='Milano', region=roiM, scale=10)\n",
    "#Export Single Image Budapest to drive\n",
    "geemap.ee_export_image_to_drive(imageBSC, description='BudapestSI', folder='Budapest', region=roiB, scale=10)\n",
    "#Export Multi Image Amsterdam to drive\n",
    "geemap.ee_export_image_to_drive(imageAMC, description='Amsterdam', folder='Amsterdam', region=roiA, scale=10)\n",
    "#Export Multi Image Milano to drive\n",
    "geemap.ee_export_image_to_drive(imageMMC, description='Milano', folder='Milano', region=roiM, scale=10)\n",
    "#Export Multi Image Budapest to drive\n",
    "geemap.ee_export_image_to_drive(imageBMC, description='Budapest', folder='Budapest', region=roiB, scale=10)"
   ]
  }
 ],
 "metadata": {
  "kernelspec": {
   "display_name": "Python 3 (ipykernel)",
   "language": "python",
   "name": "python3"
  },
  "language_info": {
   "codemirror_mode": {
    "name": "ipython",
    "version": 3
   },
   "file_extension": ".py",
   "mimetype": "text/x-python",
   "name": "python",
   "nbconvert_exporter": "python",
   "pygments_lexer": "ipython3",
   "version": "3.7.12"
  }
 },
 "nbformat": 4,
 "nbformat_minor": 5
}
