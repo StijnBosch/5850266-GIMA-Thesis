{
 "cells": [
  {
   "cell_type": "code",
   "execution_count": null,
   "id": "ce2624aa",
   "metadata": {},
   "outputs": [],
   "source": [
    "#import necessary modules\n",
    "import matplotlib.pyplot as plt\n",
    "import numpy as np\n",
    "from osgeo import gdal, gdalconst\n",
    "from rasterio.plot import show\n",
    "import earthpy.spatial as es\n",
    "import earthpy.plot as ep\n",
    "from numpy import savetxt\n",
    "from numpy import loadtxt"
   ]
  },
  {
   "cell_type": "code",
   "execution_count": null,
   "id": "cb358273",
   "metadata": {},
   "outputs": [],
   "source": [
    "#Set imagery as variables\n",
    "asi = #'Path_to_SingleDateImage_Amsterdam.tif'\n",
    "ami = #'Path_to_MedianImage_Amsterdam.tif'\n",
    "msi = #'Path_to_SingleDateImage_Milano.tif'\n",
    "mmi = #'Path_to_MedianImage_Milano.tif'\n",
    "bsi = #'Path_to_SingleDateImage_Budapest.tif'\n",
    "bmi = #'Path_to_MedianImage_Budapest.tif'\n",
    "filist = [asi, ami, msi, mmi, bsi, bmi]"
   ]
  },
  {
   "cell_type": "code",
   "execution_count": null,
   "id": "6b5e5f5f",
   "metadata": {},
   "outputs": [],
   "source": [
    "#Create function that reads imagery variable and seperates bands\n",
    "def read_data(inraster):\n",
    "    def convert(img_g, target_type_min, target_type_max, target_type):\n",
    "        imin = np.amin(img_g)\n",
    "        imax = np.amax(img_g)\n",
    "        a = (target_type_max - target_type_min) / (imax - imin)\n",
    "        b = target_type_max - a * imax\n",
    "        new_img = (a * img_g + b).astype(target_type)\n",
    "        return new_img\n",
    "    \n",
    "    img = gdal.Open(inraster, gdal.GA_ReadOnly) \n",
    "    bands = [img.GetRasterBand(i).ReadAsArray() for i in range(1, img.RasterCount + 1)]\n",
    "    img = np.array(bands)\n",
    "    img = img[0:12,:,:]\n",
    "    img = np.transpose(img, [1, 2, 0])\n",
    "    imgblue = img[:,:,[1]]\n",
    "    imgblue = imgblue[:, :, 0]\n",
    "    imggreen = img[:,:,[2]]\n",
    "    imggreen = imggreen[:, :, 0]\n",
    "    imgred = img[:,:,[3]]\n",
    "    imgred = imgred[:, :, 0]\n",
    "    imgnir = img[:,:,[7]]\n",
    "    imgnir = imgnir[:, :, 0]\n",
    "    img_rgb = img[:,:,[3,2,1]]\n",
    "    blueband = convert(imgblue, 0, 256, np.uint8)\n",
    "    greenband = convert(imggreen, 0, 256, np.uint8)\n",
    "    redband = convert(imgred, 0, 256, np.uint8)\n",
    "    nirband = convert(imgnir, 0, 256, np.uint8)\n",
    "    return imgblue, imggreen, imgred, imgnir"
   ]
  },
  {
   "cell_type": "code",
   "execution_count": null,
   "id": "f6dea0ad",
   "metadata": {},
   "outputs": [],
   "source": [
    "%%time\n",
    "#https://github.com/berkesenturk/Remote-Sensing-Sentinel-2-EO-Data-Masking-Algorithm/blob/main/utils.py\n",
    "NDWIlist = {}\n",
    "x = 0\n",
    "for img in sublist:\n",
    "    x += 1\n",
    "    blueband, green_band, redband, nir_band = read_data(img)\n",
    "    np.seterr(divide='ignore', invalid='ignore')\n",
    "    ndwi = (nir_band - green_band) / (nir_band + green_band)\n",
    "    ndwi= np.nan_to_num(ndwi)\n",
    "    NDWIlist[x] = ndwi"
   ]
  },
  {
   "cell_type": "code",
   "execution_count": null,
   "id": "a5eaf0aa",
   "metadata": {},
   "outputs": [],
   "source": [
    "#save NDVI as CSV files\n",
    "ndwiasi = np.savetxt('ndwiasi.csv', NDWIlist[1], delimiter=',')\n",
    "ndwiami = np.savetxt('ndwiami.csv', NDWIlist[2], delimiter=',')\n",
    "ndwimsi = np.savetxt('ndwimsi.csv', NDWIlist[3], delimiter=',')\n",
    "ndwimmi = np.savetxt('ndwimmi.csv', NDWIlist[4], delimiter=',')\n",
    "ndwibsi = np.savetxt('ndwibsi.csv', NDWIlist[5], delimiter=',')\n",
    "ndwibmi = np.savetxt('ndwibmi.csv', NDWIlist[6], delimiter=',')\n",
    "\n",
    "#load file example\n",
    "#load NDWI\n",
    "ndwiasi = loadtxt('ndwiasi.csv', delimiter=',')"
   ]
  },
  {
   "cell_type": "code",
   "execution_count": null,
   "id": "e8258a3c",
   "metadata": {},
   "outputs": [],
   "source": [
    "#Plot NDWI results\n",
    "ndwi = ndwiasi\n",
    "titles = #'Insert Title'\n",
    "ep.plot_bands(ndwi, cmap=\"RdYlGn\", cols=1, title=titles, vmin=0, vmax=1)"
   ]
  }
 ],
 "metadata": {
  "kernelspec": {
   "display_name": "Python 3 (ipykernel)",
   "language": "python",
   "name": "python3"
  },
  "language_info": {
   "codemirror_mode": {
    "name": "ipython",
    "version": 3
   },
   "file_extension": ".py",
   "mimetype": "text/x-python",
   "name": "python",
   "nbconvert_exporter": "python",
   "pygments_lexer": "ipython3",
   "version": "3.7.12"
  }
 },
 "nbformat": 4,
 "nbformat_minor": 5
}
