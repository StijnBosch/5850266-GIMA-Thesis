{
 "cells": [
  {
   "cell_type": "code",
   "execution_count": null,
   "id": "278de93d",
   "metadata": {},
   "outputs": [],
   "source": [
    "#import necessary modules\n",
    "import numpy as np\n",
    "import rasterio as rs\n",
    "import matplotlib.pyplot as plt\n",
    "import earthpy.spatial as es\n",
    "import earthpy.plot as ep\n",
    "from numpy import loadtxt\n",
    "from osgeo import gdal, gdalconst\n",
    "from sklearn.preprocessing import StandardScaler\n",
    "from sklearn import decomposition\n",
    "from sklearn.ensemble import IsolationForest\n",
    "from sklearn import svm"
   ]
  },
  {
   "cell_type": "code",
   "execution_count": null,
   "id": "ab5c58af",
   "metadata": {},
   "outputs": [],
   "source": [
    "#Set imagery as variables\n",
    "asi = #'Path_to_SingleDateImage_Amsterdam.tif'\n",
    "ami = #'Path_to_MedianImage_Amsterdam.tif'\n",
    "msi = #'Path_to_SingleDateImage_Milano.tif'\n",
    "mmi = #'Path_to_MedianImage_Milano.tif'\n",
    "bsi = #'Path_to_SingleDateImage_Budapest.tif'\n",
    "bmi = #'Path_to_MedianImage_Budapest.tif'\n",
    "filist = [asi, ami, msi, mmi, bsi, bmi]"
   ]
  },
  {
   "cell_type": "code",
   "execution_count": null,
   "id": "33578470",
   "metadata": {},
   "outputs": [],
   "source": [
    "def read_data(inras):\n",
    "    # Read data\n",
    "    img = gdal.Open(inras, gdal.GA_ReadOnly) \n",
    "    bands = [img.GetRasterBand(i).ReadAsArray() for i in range(1, img.RasterCount + 1)]\n",
    "    img = np.array(bands)\n",
    "    img = img[0:12,:,:]\n",
    "    img = np.transpose(img, [1, 2, 0])\n",
    "    img_rgbnir = img[:,:,[3,2,1,7]]\n",
    "    return img_rgbnir\n",
    "\n",
    "#Import Feature extraction\n",
    "NDWI = loadtxt(#'Path_to_NDWI.csv', delimiter=',')\n",
    "NDVI = loadtxt(#'Path_to_NDVI.csv', delimiter=',')\n",
    "EMP = np.load(#'Path_to_EMP.npy')\n",
    "\n",
    "GLCM_load = loadtxt(#'Path_to_GLCM.csv', delimiter=',')\n",
    "img = read_data(#imgvariable)\n",
    "nr, nc, nb = img.shape\n",
    "nf = 16\n",
    "GLCM = GLCM_load.reshape(nr,nc,nf)\n",
    "where_are_NaNs = isnan(GLCM)\n",
    "GLCM[where_are_NaNs] = 0"
   ]
  },
  {
   "cell_type": "code",
   "execution_count": null,
   "id": "cd776e9e",
   "metadata": {},
   "outputs": [],
   "source": [
    "img = read_data(#imgvarable)\n",
    "stack = np.concatenate((img, EMP, GLCM), axis=2)\n",
    "stacked = np.dstack((stack, NDVI, NDWI))\n",
    "#Setup for IF and OCSVM\n",
    "X = stacked\n",
    "Ytr1 = Twita\n",
    "nr,nc,nb = X.shape\n",
    "ns = nr*nc\n",
    "X = X.reshape((ns,nb))\n",
    "Ytr = Ytr1.reshape((ns,))\n",
    "ind = np.where(Ytr > 0)\n",
    "Xtr = X[ind[0],:]\n",
    "Ytr = Ytr[ind[0]]\n",
    "standard_scaler = StandardScaler()\n",
    "Xtr = standard_scaler.fit_transform(Xtr) \n",
    "X = standard_scaler.transform(X)"
   ]
  },
  {
   "cell_type": "code",
   "execution_count": null,
   "id": "59b96c93",
   "metadata": {},
   "outputs": [],
   "source": [
    "%%time\n",
    "#IF\n",
    "model = IsolationForest(n_estimators = 50)\n",
    "model.fit(Xtr)\n",
    "yhat = model.score_samples(X)\n",
    "params = model.get_params(deep=True)\n",
    "yhat1 = (yhat-min(yhat))/(max(yhat)-min(yhat))\n",
    "class_map1 = np.reshape(yhat1,(nr,nc))"
   ]
  },
  {
   "cell_type": "code",
   "execution_count": null,
   "id": "e084061b",
   "metadata": {},
   "outputs": [],
   "source": [
    "%%time\n",
    "#OCSVM\n",
    "model = svm.OneClassSVM(kernel = 'rbf', nu = 0.5)\n",
    "model.fit(Xtr)\n",
    "yhat2 = model.score_samples(X)\n",
    "yhat3 = (yhat2-min(yhat2))/(max(yhat2)-min(yhat2))\n",
    "class_map2 = np.reshape(yhat3,(nr,nc))"
   ]
  },
  {
   "cell_type": "code",
   "execution_count": null,
   "id": "900e80d2",
   "metadata": {},
   "outputs": [],
   "source": [
    "IsolationForest_img = np.savetxt(#'Path_to_IsolationForest_img.csv', class_map1, delimiter=',')\n",
    "Load_IF_Result = np.loadtxt(#'Path_to_IsolationForest_img.csv', delimiter=',')"
   ]
  },
  {
   "cell_type": "code",
   "execution_count": null,
   "id": "d5d46cae",
   "metadata": {},
   "outputs": [],
   "source": [
    "OCSVM_img = np.savetxt(#'Path_to_OCSVM_img.csv', class_map2, delimiter=',')\n",
    "Load_OCSVM_Result = np.loadtxt(#'Path_to_OCSVM_img.csv', delimiter=',')"
   ]
  },
  {
   "cell_type": "code",
   "execution_count": null,
   "id": "37a35232",
   "metadata": {},
   "outputs": [],
   "source": [
    "# Create classes and apply to NDVI results\n",
    "if_class_bins = [1.0, 0.9, 0.8, 0.7, 0.6, 0.5, 0.4, 0.3, 0.2, 0.1, 0]\n",
    "if_class = np.digitize(Load_IF_Result, if_class_bins)\n",
    "\n",
    "# Apply the nodata mask to the newly classified NDVI data\n",
    "if_landsat_class = np.ma.masked_where(\n",
    "    np.ma.getmask(Load_IF_Result), if_class\n",
    ")\n",
    "np.unique(if_class)\n",
    "\n",
    "# Define color map\n",
    "#nbr_colors = [\"gray\", \"y\", \"yellowgreen\", \"g\", \"darkgreen\"]\n",
    "#nbr_cmap = ListedColormap(nbr_colors)\n",
    "\n",
    "# Define class names\n",
    "if_cat_names = [\n",
    "    \"1.0 - 0.9\",\n",
    "    \"0.9 - 0.8\",\n",
    "    \"0.8 - 0.7\",\n",
    "    \"0.7 - 0.6\",\n",
    "    \"0.6 - 0.5\",\n",
    "    \"0.5 - 0.4\",\n",
    "    \"0.4 - 0.3\",\n",
    "    \"0.3 - 0.2\",\n",
    "    \"0.2 - 0.1\",\n",
    "    \"0.1 - 0.0\"\n",
    "]\n",
    "\n",
    "# Get list of classes\n",
    "classes = np.unique(if_class)\n",
    "classes = classes.tolist()\n",
    "# The mask returns a value of none in the classes. remove that\n",
    "classes = classes[0:10]\n",
    "\n",
    "# Plot your data\n",
    "fig, ax = plt.subplots(figsize=(12, 12))\n",
    "im = ax.imshow(if_class, cmap=\"RdYlGn\")\n",
    "\n",
    "ep.draw_legend(im_ax=im, classes=classes, titles=if_cat_names)\n",
    "#ax.set_title(\n",
    "#    \"SVM Anomaly score Amsterdam Single Image\",\n",
    "#    fontsize=20,\n",
    "#)\n",
    "ax.set_axis_off()\n",
    "\n",
    "# Auto adjust subplot to fit figure size\n",
    "plt.tight_layout()"
   ]
  }
 ],
 "metadata": {
  "kernelspec": {
   "display_name": "Python 3 (ipykernel)",
   "language": "python",
   "name": "python3"
  },
  "language_info": {
   "codemirror_mode": {
    "name": "ipython",
    "version": 3
   },
   "file_extension": ".py",
   "mimetype": "text/x-python",
   "name": "python",
   "nbconvert_exporter": "python",
   "pygments_lexer": "ipython3",
   "version": "3.7.12"
  }
 },
 "nbformat": 4,
 "nbformat_minor": 5
}
