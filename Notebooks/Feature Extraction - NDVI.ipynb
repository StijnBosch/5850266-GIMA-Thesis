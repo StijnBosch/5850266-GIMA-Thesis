{
 "cells": [
  {
   "cell_type": "code",
   "execution_count": null,
   "id": "264a3b95",
   "metadata": {},
   "outputs": [],
   "source": [
    "#import necessary modules\n",
    "import matplotlib.pyplot as plt\n",
    "import numpy as np\n",
    "from osgeo import gdal, gdalconst\n",
    "from rasterio.plot import show\n",
    "import earthpy.spatial as es\n",
    "import earthpy.plot as ep\n",
    "from numpy import savetxt\n",
    "from numpy import loadtxt"
   ]
  },
  {
   "cell_type": "code",
   "execution_count": null,
   "id": "e68eff2f",
   "metadata": {},
   "outputs": [],
   "source": [
    "#Set imagery as variables\n",
    "asi = #'Path_to_SingleDateImage_Amsterdam.tif'\n",
    "ami = #'Path_to_MedianImage_Amsterdam.tif'\n",
    "msi = #'Path_to_SingleDateImage_Milano.tif'\n",
    "mmi = #'Path_to_MedianImage_Milano.tif'\n",
    "bsi = #'Path_to_SingleDateImage_Budapest.tif'\n",
    "bmi = #'Path_to_MedianImage_Budapest.tif'\n",
    "filist = [asi, ami, msi, mmi, bsi, bmi]"
   ]
  },
  {
   "cell_type": "code",
   "execution_count": null,
   "id": "9cf0ec2c",
   "metadata": {},
   "outputs": [],
   "source": [
    "#Create function that reads imagery variable and seperates bands\n",
    "def read_data(inraster):\n",
    "    def convert(img_g, target_type_min, target_type_max, target_type):\n",
    "        imin = np.amin(img_g)\n",
    "        imax = np.amax(img_g)\n",
    "        a = (target_type_max - target_type_min) / (imax - imin)\n",
    "        b = target_type_max - a * imax\n",
    "        new_img = (a * img_g + b).astype(target_type)\n",
    "        return new_img\n",
    "    \n",
    "    img = gdal.Open(inraster, gdal.GA_ReadOnly) \n",
    "    bands = [img.GetRasterBand(i).ReadAsArray() for i in range(1, img.RasterCount + 1)]\n",
    "    img = np.array(bands)\n",
    "    img = img[0:12,:,:]\n",
    "    img = np.transpose(img, [1, 2, 0])\n",
    "    imgblue = img[:,:,[1]]\n",
    "    imgblue = imgblue[:, :, 0]\n",
    "    imggreen = img[:,:,[2]]\n",
    "    imggreen = imggreen[:, :, 0]\n",
    "    imgred = img[:,:,[3]]\n",
    "    imgred = imgred[:, :, 0]\n",
    "    imgnir = img[:,:,[7]]\n",
    "    imgnir = imgnir[:, :, 0]\n",
    "    img_rgb = img[:,:,[3,2,1]]\n",
    "    blueband = convert(imgblue, 0, 256, np.uint8)\n",
    "    greenband = convert(imggreen, 0, 256, np.uint8)\n",
    "    redband = convert(imgred, 0, 256, np.uint8)\n",
    "    nirband = convert(imgnir, 0, 256, np.uint8)\n",
    "    return imgblue, imggreen, imgred, imgnir"
   ]
  },
  {
   "cell_type": "code",
   "execution_count": null,
   "id": "78f81bb0",
   "metadata": {},
   "outputs": [],
   "source": [
    "%%time\n",
    "#https://earthpy.readthedocs.io/en/latest/gallery_vignettes/plot_calculate_classify_ndvi.html\n",
    "NDVIlist = {}\n",
    "x = 0\n",
    "for img in sublist:\n",
    "    x += 1\n",
    "    np.seterr(divide='ignore', invalid='ignore')\n",
    "    blueband, greenband, redband, nirband = read_data(img)\n",
    "    ndvi = es.normalized_diff(nirband, redband)\n",
    "    mask = np.where(np.logical_or(ndvi == np.nan, np.logical_not(np.isfinite(ndvi))), 1, 0)\n",
    "    ndvi = np.where(mask == 1, 1, ndvi)\n",
    "    NDVIlist[x] = ndvi"
   ]
  },
  {
   "cell_type": "code",
   "execution_count": 1,
   "id": "064151de",
   "metadata": {},
   "outputs": [
    {
     "ename": "NameError",
     "evalue": "name 'np' is not defined",
     "output_type": "error",
     "traceback": [
      "\u001b[1;31m---------------------------------------------------------------------------\u001b[0m",
      "\u001b[1;31mNameError\u001b[0m                                 Traceback (most recent call last)",
      "\u001b[1;32m~\\AppData\\Local\\Temp/ipykernel_12220/1899089619.py\u001b[0m in \u001b[0;36m<module>\u001b[1;34m\u001b[0m\n\u001b[0;32m      1\u001b[0m \u001b[1;31m#save NDVI as CSV files\u001b[0m\u001b[1;33m\u001b[0m\u001b[1;33m\u001b[0m\u001b[1;33m\u001b[0m\u001b[0m\n\u001b[1;32m----> 2\u001b[1;33m \u001b[0mndviasi\u001b[0m \u001b[1;33m=\u001b[0m \u001b[0mnp\u001b[0m\u001b[1;33m.\u001b[0m\u001b[0msavetxt\u001b[0m\u001b[1;33m(\u001b[0m\u001b[1;34m'ndviasi.csv'\u001b[0m\u001b[1;33m,\u001b[0m \u001b[0mNDVIlist\u001b[0m\u001b[1;33m[\u001b[0m\u001b[1;36m1\u001b[0m\u001b[1;33m]\u001b[0m\u001b[1;33m,\u001b[0m \u001b[0mdelimiter\u001b[0m\u001b[1;33m=\u001b[0m\u001b[1;34m','\u001b[0m\u001b[1;33m)\u001b[0m\u001b[1;33m\u001b[0m\u001b[1;33m\u001b[0m\u001b[0m\n\u001b[0m\u001b[0;32m      3\u001b[0m \u001b[0mndviami\u001b[0m \u001b[1;33m=\u001b[0m \u001b[0mnp\u001b[0m\u001b[1;33m.\u001b[0m\u001b[0msavetxt\u001b[0m\u001b[1;33m(\u001b[0m\u001b[1;34m'ndviami.csv'\u001b[0m\u001b[1;33m,\u001b[0m \u001b[0mNDVIlist\u001b[0m\u001b[1;33m[\u001b[0m\u001b[1;36m2\u001b[0m\u001b[1;33m]\u001b[0m\u001b[1;33m,\u001b[0m \u001b[0mdelimiter\u001b[0m\u001b[1;33m=\u001b[0m\u001b[1;34m','\u001b[0m\u001b[1;33m)\u001b[0m\u001b[1;33m\u001b[0m\u001b[1;33m\u001b[0m\u001b[0m\n\u001b[0;32m      4\u001b[0m \u001b[0mndvimsi\u001b[0m \u001b[1;33m=\u001b[0m \u001b[0mnp\u001b[0m\u001b[1;33m.\u001b[0m\u001b[0msavetxt\u001b[0m\u001b[1;33m(\u001b[0m\u001b[1;34m'ndvimsi.csv'\u001b[0m\u001b[1;33m,\u001b[0m \u001b[0mNDVIlist\u001b[0m\u001b[1;33m[\u001b[0m\u001b[1;36m3\u001b[0m\u001b[1;33m]\u001b[0m\u001b[1;33m,\u001b[0m \u001b[0mdelimiter\u001b[0m\u001b[1;33m=\u001b[0m\u001b[1;34m','\u001b[0m\u001b[1;33m)\u001b[0m\u001b[1;33m\u001b[0m\u001b[1;33m\u001b[0m\u001b[0m\n\u001b[0;32m      5\u001b[0m \u001b[0mndvimmi\u001b[0m \u001b[1;33m=\u001b[0m \u001b[0mnp\u001b[0m\u001b[1;33m.\u001b[0m\u001b[0msavetxt\u001b[0m\u001b[1;33m(\u001b[0m\u001b[1;34m'ndvimmi.csv'\u001b[0m\u001b[1;33m,\u001b[0m \u001b[0mNDVIlist\u001b[0m\u001b[1;33m[\u001b[0m\u001b[1;36m4\u001b[0m\u001b[1;33m]\u001b[0m\u001b[1;33m,\u001b[0m \u001b[0mdelimiter\u001b[0m\u001b[1;33m=\u001b[0m\u001b[1;34m','\u001b[0m\u001b[1;33m)\u001b[0m\u001b[1;33m\u001b[0m\u001b[1;33m\u001b[0m\u001b[0m\n",
      "\u001b[1;31mNameError\u001b[0m: name 'np' is not defined"
     ]
    }
   ],
   "source": [
    "#save NDVI as CSV files\n",
    "ndviasi = np.savetxt('ndviasi.csv', NDVIlist[1], delimiter=',')\n",
    "ndviami = np.savetxt('ndviami.csv', NDVIlist[2], delimiter=',')\n",
    "ndvimsi = np.savetxt('ndvimsi.csv', NDVIlist[3], delimiter=',')\n",
    "ndvimmi = np.savetxt('ndvimmi.csv', NDVIlist[4], delimiter=',')\n",
    "ndvibsi = np.savetxt('ndvibsi.csv', NDVIlist[5], delimiter=',')\n",
    "ndvibmi = np.savetxt('ndvibmi.csv', NDVIlist[6], delimiter=',')\n",
    "\n",
    "#load file example\n",
    "#load NDVI\n",
    "ndviasi = loadtxt('FeatureExtraction/ndviasi.csv', delimiter=',')"
   ]
  },
  {
   "cell_type": "code",
   "execution_count": null,
   "id": "2e87e4e1",
   "metadata": {},
   "outputs": [],
   "source": [
    "#Plot NDVI results\n",
    "ndvi = ndviasi\n",
    "titles = #'Insert title'\n",
    "ep.plot_bands(ndvi, cmap=\"RdYlGn\", cols=1, title=titles, vmin=0, vmax=1)"
   ]
  }
 ],
 "metadata": {
  "kernelspec": {
   "display_name": "Python 3 (ipykernel)",
   "language": "python",
   "name": "python3"
  },
  "language_info": {
   "codemirror_mode": {
    "name": "ipython",
    "version": 3
   },
   "file_extension": ".py",
   "mimetype": "text/x-python",
   "name": "python",
   "nbconvert_exporter": "python",
   "pygments_lexer": "ipython3",
   "version": "3.7.12"
  }
 },
 "nbformat": 4,
 "nbformat_minor": 5
}
